{
 "metadata": {
  "name": "Get Summits from GNIS"
 },
 "nbformat": 3,
 "nbformat_minor": 0,
 "worksheets": [
  {
   "cells": [
    {
     "cell_type": "code",
     "collapsed": false,
     "input": "import csv, fiona\nfrom shapely.geometry import Point, mapping\nfrom fiona.crs import from_epsg",
     "language": "python",
     "metadata": {},
     "outputs": [],
     "prompt_number": 60
    },
    {
     "cell_type": "code",
     "collapsed": false,
     "input": "peaks = []\nerrs = []\nwith open('/Users/dnomadb/Documents/NationalFile_20140802.txt', 'r') as inFile:\n    info = csv.DictReader(inFile)\n    for row in info:\n        try:\n            aPeak = {}\n            sInfo = row[row.keys()[0]].split('|')\n            if sInfo[2].lower() == 'summit':\n                aPeak['name'] = sInfo[1]\n                aPeak['elevation_m'] = sInfo[15]\n                aPeak['altname'] = sInfo[17]\n                aPeak['lat'] = float(sInfo[9])\n                aPeak['lng'] = float(sInfo[10])\n                peaks.append(aPeak)\n        except:\n            errs.append(row)",
     "language": "python",
     "metadata": {},
     "outputs": [],
     "prompt_number": 46
    },
    {
     "cell_type": "code",
     "collapsed": false,
     "input": "wSchema = {'geometry': 'Point',\n           'properties': {u'ID': 'int:10',\n                          'Name': 'str',\n                          'AltName': 'str',\n                          'elevation_m': 'int'}}\ndriver = u'ESRI Shapefile'\ncrs = from_epsg(4326)",
     "language": "python",
     "metadata": {},
     "outputs": [],
     "prompt_number": 61
    },
    {
     "cell_type": "code",
     "collapsed": false,
     "input": "with fiona.open('usgs_gnis_peaks.shp', 'w',\n                crs=crs,\n                driver=driver,\n                schema=wSchema) as shp:\n    for i, p in enumerate(peaks):\n        shp.write({\n            'geometry': mapping(Point((p['lng'],p['lat']))),\n            'properties': {\n                           u'ID': i,\n                           'Name': p['name'],\n                           'AltName': p['altname'],\n                           'elevation_m': p['elevation_m']\n                        }\n        })",
     "language": "python",
     "metadata": {},
     "outputs": [],
     "prompt_number": 63
    }
   ],
   "metadata": {}
  }
 ]
}